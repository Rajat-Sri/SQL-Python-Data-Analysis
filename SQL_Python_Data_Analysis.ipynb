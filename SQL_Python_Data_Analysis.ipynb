{
  "nbformat": 4,
  "nbformat_minor": 0,
  "metadata": {
    "colab": {
      "provenance": [],
      "authorship_tag": "ABX9TyMl7sd8jxWQAp0PIK5SFC9V",
      "include_colab_link": true
    },
    "kernelspec": {
      "name": "python3",
      "display_name": "Python 3"
    },
    "language_info": {
      "name": "python"
    }
  },
  "cells": [
    {
      "cell_type": "markdown",
      "metadata": {
        "id": "view-in-github",
        "colab_type": "text"
      },
      "source": [
        "<a href=\"https://colab.research.google.com/github/Rajat-Sri/SQL-Python-Data-Analysis/blob/main/SQL_Python_Data_Analysis.ipynb\" target=\"_parent\"><img src=\"https://colab.research.google.com/assets/colab-badge.svg\" alt=\"Open In Colab\"/></a>"
      ]
    },
    {
      "cell_type": "markdown",
      "source": [
        "**1. Create Employee and Department DataFrames in Python and SQL:**\n",
        "\n"
      ],
      "metadata": {
        "id": "Pa7Xw6NgTZw0"
      }
    },
    {
      "cell_type": "code",
      "source": [
        "import pandas as pd\n",
        "\n",
        "# Sample Employee data\n",
        "employee_data = {\n",
        "    'EmployeeID': [1, 2, 3, 4, 5],\n",
        "    'FirstName': ['John', 'Jane', 'Bob', 'Alice', 'Eve'],\n",
        "    'LastName': ['Doe', 'Smith', 'Johnson', 'Brown', 'Davis'],\n",
        "    'DepartmentID': [101, 102, 101, 103, 102],\n",
        "    'Salary': [60000, 65000, 70000, 55000, 75000]\n",
        "}\n",
        "\n",
        "# Sample Department data\n",
        "department_data = {\n",
        "    'DepartmentID': [101, 102, 103],\n",
        "    'DepartmentName': ['HR', 'Finance', 'IT']\n",
        "}\n",
        "\n",
        "# Create Employee and Department DataFrames\n",
        "employee_df = pd.DataFrame(employee_data)\n",
        "department_df = pd.DataFrame(department_data)"
      ],
      "metadata": {
        "id": "UqUK6an0TZ_M"
      },
      "execution_count": 5,
      "outputs": []
    },
    {
      "cell_type": "code",
      "source": [
        "# Display the DataFrames\n",
        "print(\"Employee DataFrame:\")\n",
        "employee_df"
      ],
      "metadata": {
        "colab": {
          "base_uri": "https://localhost:8080/",
          "height": 224
        },
        "id": "WIeL2EXcT67N",
        "outputId": "920f9e85-5d4f-4a3b-adaa-1782d6bc515f"
      },
      "execution_count": 4,
      "outputs": [
        {
          "output_type": "stream",
          "name": "stdout",
          "text": [
            "Employee DataFrame:\n"
          ]
        },
        {
          "output_type": "execute_result",
          "data": {
            "text/plain": [
              "   EmployeeID FirstName LastName  DepartmentID  Salary\n",
              "0           1      John      Doe           101   60000\n",
              "1           2      Jane    Smith           102   65000\n",
              "2           3       Bob  Johnson           101   70000\n",
              "3           4     Alice    Brown           103   55000\n",
              "4           5       Eve    Davis           102   75000"
            ],
            "text/html": [
              "\n",
              "  <div id=\"df-7e81a2ea-3367-4c05-a364-ad231512afa8\" class=\"colab-df-container\">\n",
              "    <div>\n",
              "<style scoped>\n",
              "    .dataframe tbody tr th:only-of-type {\n",
              "        vertical-align: middle;\n",
              "    }\n",
              "\n",
              "    .dataframe tbody tr th {\n",
              "        vertical-align: top;\n",
              "    }\n",
              "\n",
              "    .dataframe thead th {\n",
              "        text-align: right;\n",
              "    }\n",
              "</style>\n",
              "<table border=\"1\" class=\"dataframe\">\n",
              "  <thead>\n",
              "    <tr style=\"text-align: right;\">\n",
              "      <th></th>\n",
              "      <th>EmployeeID</th>\n",
              "      <th>FirstName</th>\n",
              "      <th>LastName</th>\n",
              "      <th>DepartmentID</th>\n",
              "      <th>Salary</th>\n",
              "    </tr>\n",
              "  </thead>\n",
              "  <tbody>\n",
              "    <tr>\n",
              "      <th>0</th>\n",
              "      <td>1</td>\n",
              "      <td>John</td>\n",
              "      <td>Doe</td>\n",
              "      <td>101</td>\n",
              "      <td>60000</td>\n",
              "    </tr>\n",
              "    <tr>\n",
              "      <th>1</th>\n",
              "      <td>2</td>\n",
              "      <td>Jane</td>\n",
              "      <td>Smith</td>\n",
              "      <td>102</td>\n",
              "      <td>65000</td>\n",
              "    </tr>\n",
              "    <tr>\n",
              "      <th>2</th>\n",
              "      <td>3</td>\n",
              "      <td>Bob</td>\n",
              "      <td>Johnson</td>\n",
              "      <td>101</td>\n",
              "      <td>70000</td>\n",
              "    </tr>\n",
              "    <tr>\n",
              "      <th>3</th>\n",
              "      <td>4</td>\n",
              "      <td>Alice</td>\n",
              "      <td>Brown</td>\n",
              "      <td>103</td>\n",
              "      <td>55000</td>\n",
              "    </tr>\n",
              "    <tr>\n",
              "      <th>4</th>\n",
              "      <td>5</td>\n",
              "      <td>Eve</td>\n",
              "      <td>Davis</td>\n",
              "      <td>102</td>\n",
              "      <td>75000</td>\n",
              "    </tr>\n",
              "  </tbody>\n",
              "</table>\n",
              "</div>\n",
              "    <div class=\"colab-df-buttons\">\n",
              "\n",
              "  <div class=\"colab-df-container\">\n",
              "    <button class=\"colab-df-convert\" onclick=\"convertToInteractive('df-7e81a2ea-3367-4c05-a364-ad231512afa8')\"\n",
              "            title=\"Convert this dataframe to an interactive table.\"\n",
              "            style=\"display:none;\">\n",
              "\n",
              "  <svg xmlns=\"http://www.w3.org/2000/svg\" height=\"24px\" viewBox=\"0 -960 960 960\">\n",
              "    <path d=\"M120-120v-720h720v720H120Zm60-500h600v-160H180v160Zm220 220h160v-160H400v160Zm0 220h160v-160H400v160ZM180-400h160v-160H180v160Zm440 0h160v-160H620v160ZM180-180h160v-160H180v160Zm440 0h160v-160H620v160Z\"/>\n",
              "  </svg>\n",
              "    </button>\n",
              "\n",
              "  <style>\n",
              "    .colab-df-container {\n",
              "      display:flex;\n",
              "      gap: 12px;\n",
              "    }\n",
              "\n",
              "    .colab-df-convert {\n",
              "      background-color: #E8F0FE;\n",
              "      border: none;\n",
              "      border-radius: 50%;\n",
              "      cursor: pointer;\n",
              "      display: none;\n",
              "      fill: #1967D2;\n",
              "      height: 32px;\n",
              "      padding: 0 0 0 0;\n",
              "      width: 32px;\n",
              "    }\n",
              "\n",
              "    .colab-df-convert:hover {\n",
              "      background-color: #E2EBFA;\n",
              "      box-shadow: 0px 1px 2px rgba(60, 64, 67, 0.3), 0px 1px 3px 1px rgba(60, 64, 67, 0.15);\n",
              "      fill: #174EA6;\n",
              "    }\n",
              "\n",
              "    .colab-df-buttons div {\n",
              "      margin-bottom: 4px;\n",
              "    }\n",
              "\n",
              "    [theme=dark] .colab-df-convert {\n",
              "      background-color: #3B4455;\n",
              "      fill: #D2E3FC;\n",
              "    }\n",
              "\n",
              "    [theme=dark] .colab-df-convert:hover {\n",
              "      background-color: #434B5C;\n",
              "      box-shadow: 0px 1px 3px 1px rgba(0, 0, 0, 0.15);\n",
              "      filter: drop-shadow(0px 1px 2px rgba(0, 0, 0, 0.3));\n",
              "      fill: #FFFFFF;\n",
              "    }\n",
              "  </style>\n",
              "\n",
              "    <script>\n",
              "      const buttonEl =\n",
              "        document.querySelector('#df-7e81a2ea-3367-4c05-a364-ad231512afa8 button.colab-df-convert');\n",
              "      buttonEl.style.display =\n",
              "        google.colab.kernel.accessAllowed ? 'block' : 'none';\n",
              "\n",
              "      async function convertToInteractive(key) {\n",
              "        const element = document.querySelector('#df-7e81a2ea-3367-4c05-a364-ad231512afa8');\n",
              "        const dataTable =\n",
              "          await google.colab.kernel.invokeFunction('convertToInteractive',\n",
              "                                                    [key], {});\n",
              "        if (!dataTable) return;\n",
              "\n",
              "        const docLinkHtml = 'Like what you see? Visit the ' +\n",
              "          '<a target=\"_blank\" href=https://colab.research.google.com/notebooks/data_table.ipynb>data table notebook</a>'\n",
              "          + ' to learn more about interactive tables.';\n",
              "        element.innerHTML = '';\n",
              "        dataTable['output_type'] = 'display_data';\n",
              "        await google.colab.output.renderOutput(dataTable, element);\n",
              "        const docLink = document.createElement('div');\n",
              "        docLink.innerHTML = docLinkHtml;\n",
              "        element.appendChild(docLink);\n",
              "      }\n",
              "    </script>\n",
              "  </div>\n",
              "\n",
              "\n",
              "<div id=\"df-51f89114-622e-4b51-b9d1-1b01681d4684\">\n",
              "  <button class=\"colab-df-quickchart\" onclick=\"quickchart('df-51f89114-622e-4b51-b9d1-1b01681d4684')\"\n",
              "            title=\"Suggest charts.\"\n",
              "            style=\"display:none;\">\n",
              "\n",
              "<svg xmlns=\"http://www.w3.org/2000/svg\" height=\"24px\"viewBox=\"0 0 24 24\"\n",
              "     width=\"24px\">\n",
              "    <g>\n",
              "        <path d=\"M19 3H5c-1.1 0-2 .9-2 2v14c0 1.1.9 2 2 2h14c1.1 0 2-.9 2-2V5c0-1.1-.9-2-2-2zM9 17H7v-7h2v7zm4 0h-2V7h2v10zm4 0h-2v-4h2v4z\"/>\n",
              "    </g>\n",
              "</svg>\n",
              "  </button>\n",
              "\n",
              "<style>\n",
              "  .colab-df-quickchart {\n",
              "      --bg-color: #E8F0FE;\n",
              "      --fill-color: #1967D2;\n",
              "      --hover-bg-color: #E2EBFA;\n",
              "      --hover-fill-color: #174EA6;\n",
              "      --disabled-fill-color: #AAA;\n",
              "      --disabled-bg-color: #DDD;\n",
              "  }\n",
              "\n",
              "  [theme=dark] .colab-df-quickchart {\n",
              "      --bg-color: #3B4455;\n",
              "      --fill-color: #D2E3FC;\n",
              "      --hover-bg-color: #434B5C;\n",
              "      --hover-fill-color: #FFFFFF;\n",
              "      --disabled-bg-color: #3B4455;\n",
              "      --disabled-fill-color: #666;\n",
              "  }\n",
              "\n",
              "  .colab-df-quickchart {\n",
              "    background-color: var(--bg-color);\n",
              "    border: none;\n",
              "    border-radius: 50%;\n",
              "    cursor: pointer;\n",
              "    display: none;\n",
              "    fill: var(--fill-color);\n",
              "    height: 32px;\n",
              "    padding: 0;\n",
              "    width: 32px;\n",
              "  }\n",
              "\n",
              "  .colab-df-quickchart:hover {\n",
              "    background-color: var(--hover-bg-color);\n",
              "    box-shadow: 0 1px 2px rgba(60, 64, 67, 0.3), 0 1px 3px 1px rgba(60, 64, 67, 0.15);\n",
              "    fill: var(--button-hover-fill-color);\n",
              "  }\n",
              "\n",
              "  .colab-df-quickchart-complete:disabled,\n",
              "  .colab-df-quickchart-complete:disabled:hover {\n",
              "    background-color: var(--disabled-bg-color);\n",
              "    fill: var(--disabled-fill-color);\n",
              "    box-shadow: none;\n",
              "  }\n",
              "\n",
              "  .colab-df-spinner {\n",
              "    border: 2px solid var(--fill-color);\n",
              "    border-color: transparent;\n",
              "    border-bottom-color: var(--fill-color);\n",
              "    animation:\n",
              "      spin 1s steps(1) infinite;\n",
              "  }\n",
              "\n",
              "  @keyframes spin {\n",
              "    0% {\n",
              "      border-color: transparent;\n",
              "      border-bottom-color: var(--fill-color);\n",
              "      border-left-color: var(--fill-color);\n",
              "    }\n",
              "    20% {\n",
              "      border-color: transparent;\n",
              "      border-left-color: var(--fill-color);\n",
              "      border-top-color: var(--fill-color);\n",
              "    }\n",
              "    30% {\n",
              "      border-color: transparent;\n",
              "      border-left-color: var(--fill-color);\n",
              "      border-top-color: var(--fill-color);\n",
              "      border-right-color: var(--fill-color);\n",
              "    }\n",
              "    40% {\n",
              "      border-color: transparent;\n",
              "      border-right-color: var(--fill-color);\n",
              "      border-top-color: var(--fill-color);\n",
              "    }\n",
              "    60% {\n",
              "      border-color: transparent;\n",
              "      border-right-color: var(--fill-color);\n",
              "    }\n",
              "    80% {\n",
              "      border-color: transparent;\n",
              "      border-right-color: var(--fill-color);\n",
              "      border-bottom-color: var(--fill-color);\n",
              "    }\n",
              "    90% {\n",
              "      border-color: transparent;\n",
              "      border-bottom-color: var(--fill-color);\n",
              "    }\n",
              "  }\n",
              "</style>\n",
              "\n",
              "  <script>\n",
              "    async function quickchart(key) {\n",
              "      const quickchartButtonEl =\n",
              "        document.querySelector('#' + key + ' button');\n",
              "      quickchartButtonEl.disabled = true;  // To prevent multiple clicks.\n",
              "      quickchartButtonEl.classList.add('colab-df-spinner');\n",
              "      try {\n",
              "        const charts = await google.colab.kernel.invokeFunction(\n",
              "            'suggestCharts', [key], {});\n",
              "      } catch (error) {\n",
              "        console.error('Error during call to suggestCharts:', error);\n",
              "      }\n",
              "      quickchartButtonEl.classList.remove('colab-df-spinner');\n",
              "      quickchartButtonEl.classList.add('colab-df-quickchart-complete');\n",
              "    }\n",
              "    (() => {\n",
              "      let quickchartButtonEl =\n",
              "        document.querySelector('#df-51f89114-622e-4b51-b9d1-1b01681d4684 button');\n",
              "      quickchartButtonEl.style.display =\n",
              "        google.colab.kernel.accessAllowed ? 'block' : 'none';\n",
              "    })();\n",
              "  </script>\n",
              "</div>\n",
              "    </div>\n",
              "  </div>\n"
            ]
          },
          "metadata": {},
          "execution_count": 4
        }
      ]
    },
    {
      "cell_type": "code",
      "source": [
        "print(\"\\nDepartment DataFrame:\")\n",
        "department_df"
      ],
      "metadata": {
        "colab": {
          "base_uri": "https://localhost:8080/",
          "height": 180
        },
        "id": "XIDSC8MiT16o",
        "outputId": "7d37bd61-596b-4b70-fbf1-9fe647c1fd7d"
      },
      "execution_count": 6,
      "outputs": [
        {
          "output_type": "stream",
          "name": "stdout",
          "text": [
            "\n",
            "Department DataFrame:\n"
          ]
        },
        {
          "output_type": "execute_result",
          "data": {
            "text/plain": [
              "   DepartmentID DepartmentName\n",
              "0           101             HR\n",
              "1           102        Finance\n",
              "2           103             IT"
            ],
            "text/html": [
              "\n",
              "  <div id=\"df-24c09622-e416-4b80-a37c-dda0b9f3a3ca\" class=\"colab-df-container\">\n",
              "    <div>\n",
              "<style scoped>\n",
              "    .dataframe tbody tr th:only-of-type {\n",
              "        vertical-align: middle;\n",
              "    }\n",
              "\n",
              "    .dataframe tbody tr th {\n",
              "        vertical-align: top;\n",
              "    }\n",
              "\n",
              "    .dataframe thead th {\n",
              "        text-align: right;\n",
              "    }\n",
              "</style>\n",
              "<table border=\"1\" class=\"dataframe\">\n",
              "  <thead>\n",
              "    <tr style=\"text-align: right;\">\n",
              "      <th></th>\n",
              "      <th>DepartmentID</th>\n",
              "      <th>DepartmentName</th>\n",
              "    </tr>\n",
              "  </thead>\n",
              "  <tbody>\n",
              "    <tr>\n",
              "      <th>0</th>\n",
              "      <td>101</td>\n",
              "      <td>HR</td>\n",
              "    </tr>\n",
              "    <tr>\n",
              "      <th>1</th>\n",
              "      <td>102</td>\n",
              "      <td>Finance</td>\n",
              "    </tr>\n",
              "    <tr>\n",
              "      <th>2</th>\n",
              "      <td>103</td>\n",
              "      <td>IT</td>\n",
              "    </tr>\n",
              "  </tbody>\n",
              "</table>\n",
              "</div>\n",
              "    <div class=\"colab-df-buttons\">\n",
              "\n",
              "  <div class=\"colab-df-container\">\n",
              "    <button class=\"colab-df-convert\" onclick=\"convertToInteractive('df-24c09622-e416-4b80-a37c-dda0b9f3a3ca')\"\n",
              "            title=\"Convert this dataframe to an interactive table.\"\n",
              "            style=\"display:none;\">\n",
              "\n",
              "  <svg xmlns=\"http://www.w3.org/2000/svg\" height=\"24px\" viewBox=\"0 -960 960 960\">\n",
              "    <path d=\"M120-120v-720h720v720H120Zm60-500h600v-160H180v160Zm220 220h160v-160H400v160Zm0 220h160v-160H400v160ZM180-400h160v-160H180v160Zm440 0h160v-160H620v160ZM180-180h160v-160H180v160Zm440 0h160v-160H620v160Z\"/>\n",
              "  </svg>\n",
              "    </button>\n",
              "\n",
              "  <style>\n",
              "    .colab-df-container {\n",
              "      display:flex;\n",
              "      gap: 12px;\n",
              "    }\n",
              "\n",
              "    .colab-df-convert {\n",
              "      background-color: #E8F0FE;\n",
              "      border: none;\n",
              "      border-radius: 50%;\n",
              "      cursor: pointer;\n",
              "      display: none;\n",
              "      fill: #1967D2;\n",
              "      height: 32px;\n",
              "      padding: 0 0 0 0;\n",
              "      width: 32px;\n",
              "    }\n",
              "\n",
              "    .colab-df-convert:hover {\n",
              "      background-color: #E2EBFA;\n",
              "      box-shadow: 0px 1px 2px rgba(60, 64, 67, 0.3), 0px 1px 3px 1px rgba(60, 64, 67, 0.15);\n",
              "      fill: #174EA6;\n",
              "    }\n",
              "\n",
              "    .colab-df-buttons div {\n",
              "      margin-bottom: 4px;\n",
              "    }\n",
              "\n",
              "    [theme=dark] .colab-df-convert {\n",
              "      background-color: #3B4455;\n",
              "      fill: #D2E3FC;\n",
              "    }\n",
              "\n",
              "    [theme=dark] .colab-df-convert:hover {\n",
              "      background-color: #434B5C;\n",
              "      box-shadow: 0px 1px 3px 1px rgba(0, 0, 0, 0.15);\n",
              "      filter: drop-shadow(0px 1px 2px rgba(0, 0, 0, 0.3));\n",
              "      fill: #FFFFFF;\n",
              "    }\n",
              "  </style>\n",
              "\n",
              "    <script>\n",
              "      const buttonEl =\n",
              "        document.querySelector('#df-24c09622-e416-4b80-a37c-dda0b9f3a3ca button.colab-df-convert');\n",
              "      buttonEl.style.display =\n",
              "        google.colab.kernel.accessAllowed ? 'block' : 'none';\n",
              "\n",
              "      async function convertToInteractive(key) {\n",
              "        const element = document.querySelector('#df-24c09622-e416-4b80-a37c-dda0b9f3a3ca');\n",
              "        const dataTable =\n",
              "          await google.colab.kernel.invokeFunction('convertToInteractive',\n",
              "                                                    [key], {});\n",
              "        if (!dataTable) return;\n",
              "\n",
              "        const docLinkHtml = 'Like what you see? Visit the ' +\n",
              "          '<a target=\"_blank\" href=https://colab.research.google.com/notebooks/data_table.ipynb>data table notebook</a>'\n",
              "          + ' to learn more about interactive tables.';\n",
              "        element.innerHTML = '';\n",
              "        dataTable['output_type'] = 'display_data';\n",
              "        await google.colab.output.renderOutput(dataTable, element);\n",
              "        const docLink = document.createElement('div');\n",
              "        docLink.innerHTML = docLinkHtml;\n",
              "        element.appendChild(docLink);\n",
              "      }\n",
              "    </script>\n",
              "  </div>\n",
              "\n",
              "\n",
              "<div id=\"df-f4c88942-5d3d-45d9-a4f2-8aa4e6979bb4\">\n",
              "  <button class=\"colab-df-quickchart\" onclick=\"quickchart('df-f4c88942-5d3d-45d9-a4f2-8aa4e6979bb4')\"\n",
              "            title=\"Suggest charts.\"\n",
              "            style=\"display:none;\">\n",
              "\n",
              "<svg xmlns=\"http://www.w3.org/2000/svg\" height=\"24px\"viewBox=\"0 0 24 24\"\n",
              "     width=\"24px\">\n",
              "    <g>\n",
              "        <path d=\"M19 3H5c-1.1 0-2 .9-2 2v14c0 1.1.9 2 2 2h14c1.1 0 2-.9 2-2V5c0-1.1-.9-2-2-2zM9 17H7v-7h2v7zm4 0h-2V7h2v10zm4 0h-2v-4h2v4z\"/>\n",
              "    </g>\n",
              "</svg>\n",
              "  </button>\n",
              "\n",
              "<style>\n",
              "  .colab-df-quickchart {\n",
              "      --bg-color: #E8F0FE;\n",
              "      --fill-color: #1967D2;\n",
              "      --hover-bg-color: #E2EBFA;\n",
              "      --hover-fill-color: #174EA6;\n",
              "      --disabled-fill-color: #AAA;\n",
              "      --disabled-bg-color: #DDD;\n",
              "  }\n",
              "\n",
              "  [theme=dark] .colab-df-quickchart {\n",
              "      --bg-color: #3B4455;\n",
              "      --fill-color: #D2E3FC;\n",
              "      --hover-bg-color: #434B5C;\n",
              "      --hover-fill-color: #FFFFFF;\n",
              "      --disabled-bg-color: #3B4455;\n",
              "      --disabled-fill-color: #666;\n",
              "  }\n",
              "\n",
              "  .colab-df-quickchart {\n",
              "    background-color: var(--bg-color);\n",
              "    border: none;\n",
              "    border-radius: 50%;\n",
              "    cursor: pointer;\n",
              "    display: none;\n",
              "    fill: var(--fill-color);\n",
              "    height: 32px;\n",
              "    padding: 0;\n",
              "    width: 32px;\n",
              "  }\n",
              "\n",
              "  .colab-df-quickchart:hover {\n",
              "    background-color: var(--hover-bg-color);\n",
              "    box-shadow: 0 1px 2px rgba(60, 64, 67, 0.3), 0 1px 3px 1px rgba(60, 64, 67, 0.15);\n",
              "    fill: var(--button-hover-fill-color);\n",
              "  }\n",
              "\n",
              "  .colab-df-quickchart-complete:disabled,\n",
              "  .colab-df-quickchart-complete:disabled:hover {\n",
              "    background-color: var(--disabled-bg-color);\n",
              "    fill: var(--disabled-fill-color);\n",
              "    box-shadow: none;\n",
              "  }\n",
              "\n",
              "  .colab-df-spinner {\n",
              "    border: 2px solid var(--fill-color);\n",
              "    border-color: transparent;\n",
              "    border-bottom-color: var(--fill-color);\n",
              "    animation:\n",
              "      spin 1s steps(1) infinite;\n",
              "  }\n",
              "\n",
              "  @keyframes spin {\n",
              "    0% {\n",
              "      border-color: transparent;\n",
              "      border-bottom-color: var(--fill-color);\n",
              "      border-left-color: var(--fill-color);\n",
              "    }\n",
              "    20% {\n",
              "      border-color: transparent;\n",
              "      border-left-color: var(--fill-color);\n",
              "      border-top-color: var(--fill-color);\n",
              "    }\n",
              "    30% {\n",
              "      border-color: transparent;\n",
              "      border-left-color: var(--fill-color);\n",
              "      border-top-color: var(--fill-color);\n",
              "      border-right-color: var(--fill-color);\n",
              "    }\n",
              "    40% {\n",
              "      border-color: transparent;\n",
              "      border-right-color: var(--fill-color);\n",
              "      border-top-color: var(--fill-color);\n",
              "    }\n",
              "    60% {\n",
              "      border-color: transparent;\n",
              "      border-right-color: var(--fill-color);\n",
              "    }\n",
              "    80% {\n",
              "      border-color: transparent;\n",
              "      border-right-color: var(--fill-color);\n",
              "      border-bottom-color: var(--fill-color);\n",
              "    }\n",
              "    90% {\n",
              "      border-color: transparent;\n",
              "      border-bottom-color: var(--fill-color);\n",
              "    }\n",
              "  }\n",
              "</style>\n",
              "\n",
              "  <script>\n",
              "    async function quickchart(key) {\n",
              "      const quickchartButtonEl =\n",
              "        document.querySelector('#' + key + ' button');\n",
              "      quickchartButtonEl.disabled = true;  // To prevent multiple clicks.\n",
              "      quickchartButtonEl.classList.add('colab-df-spinner');\n",
              "      try {\n",
              "        const charts = await google.colab.kernel.invokeFunction(\n",
              "            'suggestCharts', [key], {});\n",
              "      } catch (error) {\n",
              "        console.error('Error during call to suggestCharts:', error);\n",
              "      }\n",
              "      quickchartButtonEl.classList.remove('colab-df-spinner');\n",
              "      quickchartButtonEl.classList.add('colab-df-quickchart-complete');\n",
              "    }\n",
              "    (() => {\n",
              "      let quickchartButtonEl =\n",
              "        document.querySelector('#df-f4c88942-5d3d-45d9-a4f2-8aa4e6979bb4 button');\n",
              "      quickchartButtonEl.style.display =\n",
              "        google.colab.kernel.accessAllowed ? 'block' : 'none';\n",
              "    })();\n",
              "  </script>\n",
              "</div>\n",
              "    </div>\n",
              "  </div>\n"
            ]
          },
          "metadata": {},
          "execution_count": 6
        }
      ]
    },
    {
      "cell_type": "markdown",
      "source": [
        "\n",
        "    CREATE TABLE Department (\n",
        "\n",
        "    DepartmentID INT PRIMARY KEY,\n",
        "\n",
        "    DepartmentName VARCHAR(255)\n",
        "    );\n",
        "    INSERT INTO Department (DepartmentID, DepartmentName) VALUES\n",
        "    (101, 'HR'),\n",
        "    (102, 'Finance'),\n",
        "    (103, 'IT');\n",
        "---------------------------------------------------------\n",
        "    CREATE TABLE Employee (\n",
        "    EmployeeID INT PRIMARY KEY,\n",
        "    FirstName VARCHAR(255),\n",
        "    LastName VARCHAR(255),\n",
        "    DepartmentID INT,\n",
        "    Salary INT\n",
        "    );\n",
        "    INSERT INTO Employee (EmployeeID, FirstName, LastName, DepartmentID, Salary) VALUES\n",
        "    (1, 'John', 'Doe', 101, 60000),\n",
        "    (2, 'Jane', 'Smith', 102, 65000),\n",
        "    (3, 'Bob', 'Johnson', 101, 70000),\n",
        "    (4, 'Alice', 'Brown', 103, 55000),\n",
        "    (5, 'Eve', 'Davis', 102, 75000);\n"
      ],
      "metadata": {
        "id": "ezfW-8MlUHNt"
      }
    },
    {
      "cell_type": "markdown",
      "source": [
        "**2. Select all employees in the Finance department and their salaries:**"
      ],
      "metadata": {
        "id": "cLHtzZvLUwEY"
      }
    },
    {
      "cell_type": "code",
      "source": [
        "finance_employees = employee_df[employee_df['DepartmentID'] == 102]\n",
        "print(finance_employees[['FirstName', 'LastName', 'Salary']])"
      ],
      "metadata": {
        "colab": {
          "base_uri": "https://localhost:8080/"
        },
        "id": "Sy3fSutMVQLE",
        "outputId": "6e7f3efe-9619-4e37-a07d-6a4d529e9b1c"
      },
      "execution_count": 7,
      "outputs": [
        {
          "output_type": "stream",
          "name": "stdout",
          "text": [
            "  FirstName LastName  Salary\n",
            "1      Jane    Smith   65000\n",
            "4       Eve    Davis   75000\n"
          ]
        }
      ]
    },
    {
      "cell_type": "markdown",
      "source": [
        "    SELECT FirstName, LastName, Salary\n",
        "    FROM Employee\n",
        "    WHERE DepartmentID = 102;\n"
      ],
      "metadata": {
        "id": "B4v3SxAwVRmO"
      }
    },
    {
      "cell_type": "markdown",
      "source": [
        "**3. Count the number of employees in each department**"
      ],
      "metadata": {
        "id": "cz8JiX1QVYk4"
      }
    },
    {
      "cell_type": "code",
      "source": [
        "employee_count_by_dept = employee_df['DepartmentID'].value_counts()\n",
        "print(employee_count_by_dept)"
      ],
      "metadata": {
        "colab": {
          "base_uri": "https://localhost:8080/"
        },
        "id": "09j4lrVjVcrW",
        "outputId": "2f1ab37a-a782-4edf-ba8e-c7e6233476ae"
      },
      "execution_count": 8,
      "outputs": [
        {
          "output_type": "stream",
          "name": "stdout",
          "text": [
            "101    2\n",
            "102    2\n",
            "103    1\n",
            "Name: DepartmentID, dtype: int64\n"
          ]
        }
      ]
    },
    {
      "cell_type": "markdown",
      "source": [
        "    SELECT DepartmentID, COUNT(*) as EmployeeCount\n",
        "    FROM Employee\n",
        "    GROUP BY DepartmentID;\n"
      ],
      "metadata": {
        "id": "d3rt_6wuViIL"
      }
    },
    {
      "cell_type": "markdown",
      "source": [
        "**4. Find the highest salary among employees:**"
      ],
      "metadata": {
        "id": "QnThhultViSu"
      }
    },
    {
      "cell_type": "code",
      "source": [
        "highest_salary = employee_df['Salary'].max()\n",
        "print(highest_salary)"
      ],
      "metadata": {
        "colab": {
          "base_uri": "https://localhost:8080/"
        },
        "id": "1mph0uoHVu96",
        "outputId": "b83d67ee-e4dc-47a3-ef60-12f67a7b28e4"
      },
      "execution_count": 9,
      "outputs": [
        {
          "output_type": "stream",
          "name": "stdout",
          "text": [
            "75000\n"
          ]
        }
      ]
    },
    {
      "cell_type": "markdown",
      "source": [
        "    SELECT MAX(Salary) as HighestSalary\n",
        "    FROM Employee;\n"
      ],
      "metadata": {
        "id": "2k5L8X00VvPV"
      }
    },
    {
      "cell_type": "markdown",
      "source": [
        "**5. List employees with a salary above $70,000:**"
      ],
      "metadata": {
        "id": "RTKFmOivVvS5"
      }
    },
    {
      "cell_type": "code",
      "source": [
        "high_salary_employees = employee_df[employee_df['Salary'] > 70000]\n",
        "print(high_salary_employees[['FirstName', 'LastName', 'Salary']])"
      ],
      "metadata": {
        "colab": {
          "base_uri": "https://localhost:8080/"
        },
        "id": "mopf4sVFV6cB",
        "outputId": "bd104def-8d9b-418a-bfab-4d9d6faa85b4"
      },
      "execution_count": 10,
      "outputs": [
        {
          "output_type": "stream",
          "name": "stdout",
          "text": [
            "  FirstName LastName  Salary\n",
            "4       Eve    Davis   75000\n"
          ]
        }
      ]
    },
    {
      "cell_type": "markdown",
      "source": [
        "    SELECT FirstName, LastName, Salary\n",
        "    FROM Employee\n",
        "    WHERE Salary > 70000;\n"
      ],
      "metadata": {
        "id": "VnCPFaoNV6qn"
      }
    },
    {
      "cell_type": "markdown",
      "source": [
        "**6. Calculate the total salary expense for each department:**"
      ],
      "metadata": {
        "id": "Nu6UUX0LV6uB"
      }
    },
    {
      "cell_type": "code",
      "source": [
        "total_salary_by_dept = employee_df.groupby('DepartmentID')['Salary'].sum()\n",
        "print(total_salary_by_dept)"
      ],
      "metadata": {
        "colab": {
          "base_uri": "https://localhost:8080/"
        },
        "id": "z_LcqxtTWJdt",
        "outputId": "fbb535e0-bfb6-4511-ee6e-58b0c8518237"
      },
      "execution_count": 11,
      "outputs": [
        {
          "output_type": "stream",
          "name": "stdout",
          "text": [
            "DepartmentID\n",
            "101    130000\n",
            "102    140000\n",
            "103     55000\n",
            "Name: Salary, dtype: int64\n"
          ]
        }
      ]
    },
    {
      "cell_type": "markdown",
      "source": [
        "    SELECT DepartmentID, SUM(Salary) as TotalSalary\n",
        "    FROM Employee\n",
        "    GROUP BY DepartmentID;\n"
      ],
      "metadata": {
        "id": "o5PEVRTKWJri"
      }
    },
    {
      "cell_type": "markdown",
      "source": [
        "**7. Sort employees by last name in alphabetical order:**"
      ],
      "metadata": {
        "id": "r4V87FG5WJv1"
      }
    },
    {
      "cell_type": "code",
      "source": [
        "sorted_employees = employee_df.sort_values(by='LastName')\n",
        "print(sorted_employees[['FirstName', 'LastName']])\n"
      ],
      "metadata": {
        "colab": {
          "base_uri": "https://localhost:8080/"
        },
        "id": "lQ14PAJcWbMk",
        "outputId": "c5fe4863-10cd-4817-8481-c9468f03f973"
      },
      "execution_count": 12,
      "outputs": [
        {
          "output_type": "stream",
          "name": "stdout",
          "text": [
            "  FirstName LastName\n",
            "3     Alice    Brown\n",
            "4       Eve    Davis\n",
            "0      John      Doe\n",
            "2       Bob  Johnson\n",
            "1      Jane    Smith\n"
          ]
        }
      ]
    },
    {
      "cell_type": "markdown",
      "source": [
        "    SELECT FirstName, LastName\n",
        "    FROM Employee\n",
        "    ORDER BY LastName ASC;\n"
      ],
      "metadata": {
        "id": "yKkDHD69Wbdw"
      }
    },
    {
      "cell_type": "markdown",
      "source": [
        "**8. Find the average salary of employees whose first name starts with 'J':**"
      ],
      "metadata": {
        "id": "VhV0_zAQWbhE"
      }
    },
    {
      "cell_type": "code",
      "source": [
        "j_employees = employee_df[employee_df['FirstName'].str.startswith('J')]\n",
        "avg_salary_j_employees = j_employees['Salary'].mean()\n",
        "print(avg_salary_j_employees)"
      ],
      "metadata": {
        "colab": {
          "base_uri": "https://localhost:8080/"
        },
        "id": "mEA9nTLwWpPu",
        "outputId": "5ea65da1-1394-4b8c-aa3f-b9002326242e"
      },
      "execution_count": 13,
      "outputs": [
        {
          "output_type": "stream",
          "name": "stdout",
          "text": [
            "62500.0\n"
          ]
        }
      ]
    },
    {
      "cell_type": "markdown",
      "source": [
        "    SELECT AVG(Salary) as AvgSalary\n",
        "    FROM Employee\n",
        "    WHERE FirstName LIKE 'J%';\n"
      ],
      "metadata": {
        "id": "WvL1-pa3WpiA"
      }
    },
    {
      "cell_type": "markdown",
      "source": [
        "**9. Join Employee and Department DataFrames to get employee names and department names:**"
      ],
      "metadata": {
        "id": "fCdMk8NkWplg"
      }
    },
    {
      "cell_type": "code",
      "source": [
        "merged_df = pd.merge(employee_df, department_df, on='DepartmentID')\n",
        "print(merged_df[['FirstName', 'LastName', 'DepartmentName']])"
      ],
      "metadata": {
        "colab": {
          "base_uri": "https://localhost:8080/"
        },
        "id": "HbRjDhSnWuRz",
        "outputId": "8e394e91-8ed9-419f-e407-6f8de4f3fb2b"
      },
      "execution_count": 14,
      "outputs": [
        {
          "output_type": "stream",
          "name": "stdout",
          "text": [
            "  FirstName LastName DepartmentName\n",
            "0      John      Doe             HR\n",
            "1       Bob  Johnson             HR\n",
            "2      Jane    Smith        Finance\n",
            "3       Eve    Davis        Finance\n",
            "4     Alice    Brown             IT\n"
          ]
        }
      ]
    },
    {
      "cell_type": "markdown",
      "source": [
        "    SELECT E.FirstName, E.LastName, D.DepartmentName\n",
        "    FROM Employee E\n",
        "    JOIN Department D ON E.DepartmentID = D.DepartmentID;\n"
      ],
      "metadata": {
        "id": "oH5DDo5kaycj"
      }
    },
    {
      "cell_type": "markdown",
      "source": [
        "**10. Find the department with the highest average salary:**"
      ],
      "metadata": {
        "id": "W4-eZh_Ya2rD"
      }
    },
    {
      "cell_type": "code",
      "source": [
        "avg_salary_by_dept = employee_df.groupby('DepartmentID')['Salary'].mean()\n",
        "department_with_highest_avg_salary = avg_salary_by_dept.idxmax()\n",
        "print(department_with_highest_avg_salary)"
      ],
      "metadata": {
        "colab": {
          "base_uri": "https://localhost:8080/"
        },
        "id": "Vs8rSjHha9fn",
        "outputId": "72040b0c-2caf-4a9c-be6d-57c0620db133"
      },
      "execution_count": 15,
      "outputs": [
        {
          "output_type": "stream",
          "name": "stdout",
          "text": [
            "102\n"
          ]
        }
      ]
    },
    {
      "cell_type": "markdown",
      "source": [
        "    SELECT DepartmentID\n",
        "    FROM (\n",
        "    SELECT DepartmentID, AVG(Salary) as AvgSalary\n",
        "    FROM Employee\n",
        "    GROUP BY DepartmentID\n",
        "    ORDER BY AvgSalary DESC\n",
        "    LIMIT 1\n",
        "    );\n"
      ],
      "metadata": {
        "id": "7MpkGhu_bDNJ"
      }
    }
  ]
}